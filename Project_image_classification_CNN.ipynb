{
  "nbformat": 4,
  "nbformat_minor": 0,
  "metadata": {
    "kernelspec": {
      "display_name": "Python 3",
      "language": "python",
      "name": "python3"
    },
    "language_info": {
      "codemirror_mode": {
        "name": "ipython",
        "version": 3
      },
      "file_extension": ".py",
      "mimetype": "text/x-python",
      "name": "python",
      "nbconvert_exporter": "python",
      "pygments_lexer": "ipython3",
      "version": "3.6.12"
    },
    "colab": {
      "name": "Project image_classification CNN.ipynb",
      "provenance": [],
      "collapsed_sections": [],
      "include_colab_link": true
    },
    "accelerator": "GPU"
  },
  "cells": [
    {
      "cell_type": "markdown",
      "metadata": {
        "id": "view-in-github",
        "colab_type": "text"
      },
      "source": [
        "<a href=\"https://colab.research.google.com/github/Mahmoud-darwish01/Project/blob/main/Project_image_classification_CNN.ipynb\" target=\"_parent\"><img src=\"https://colab.research.google.com/assets/colab-badge.svg\" alt=\"Open In Colab\"/></a>"
      ]
    },
    {
      "cell_type": "code",
      "metadata": {
        "id": "qoUGF9McjItg"
      },
      "source": [
        "#%env CUDA_VISIBLE_DEVICES=2\n",
        "\n",
        "import torch, torchvision\n",
        "from torchvision import datasets, models, transforms\n",
        "import torch.nn as nn\n",
        "import torch.nn.functional as F\n",
        "import torch.optim as optim\n",
        "from torch.utils.data import DataLoader\n",
        "import time\n",
        "from torchsummary import summary\n",
        "\n",
        "import numpy as np\n",
        "import matplotlib.pyplot as plt\n",
        "import os\n",
        "\n",
        "from PIL import Image"
      ],
      "execution_count": 2,
      "outputs": []
    },
    {
      "cell_type": "code",
      "metadata": {
        "id": "i5stc52OkeD7",
        "colab": {
          "base_uri": "https://localhost:8080/"
        },
        "outputId": "b0ca0417-db23-45cc-db1f-b8d80e348836"
      },
      "source": [
        "# mount drive so that we can use the dataset from google drive\n",
        "\n",
        "from google.colab import drive\n",
        "drive.mount(\"/content/drive\")"
      ],
      "execution_count": 4,
      "outputs": [
        {
          "output_type": "stream",
          "text": [
            "Drive already mounted at /content/drive; to attempt to forcibly remount, call drive.mount(\"/content/drive\", force_remount=True).\n"
          ],
          "name": "stdout"
        }
      ]
    },
    {
      "cell_type": "code",
      "metadata": {
        "colab": {
          "base_uri": "https://localhost:8080/"
        },
        "id": "O2BtKIedkew-",
        "outputId": "51659cd6-1a26-4a96-a77f-44623d4a5e33"
      },
      "source": [
        "!ls \"/content/drive/My Drive/machine vision/animal_dataset3\"\r\n"
      ],
      "execution_count": 5,
      "outputs": [
        {
          "output_type": "stream",
          "text": [
            " animal0.1_accuracy_curve.png   cnn1_loss_curve.png\n",
            " animal0.1_loss_curve.png       cnn2sigmoid_accuracy_curve.png\n",
            " animal0.2_accuracy_curve.png  'cnn2(sigmoid_loss_curve.png'\n",
            " animal0.2_loss_curve.png      'cnn3(TANH_accuracy_curve.png'\n",
            " animal1_accuracy_curve.png    'cnn3(TANH_loss_curve.png'\n",
            " animal2_accuracy_curve.png     cnn4_accuracy_curve.png\n",
            " animal2_loss_curve.png         cnn4_loss_curve.png\n",
            " animal3_accuracy_curve.png     cnn5_accuracy_curve.png\n",
            " animal3_loss_curve.png         cnn5_loss_curve.png\n",
            " animal4_accuracy_curve.png     cnn6_accuracy_curve.png\n",
            " animal4_loss_curve.png         cnn6_loss_curve.png\n",
            " animal5_accuracy_curve.png     cnn7_accuracy_curve.png\n",
            " animal5_loss_curve.png         cnn7_loss_curve.png\n",
            " animal6_accuracy_curve.png     cnn8_accuracy_curve.png\n",
            " animal6_loss_curve.png         cnn8_loss_curve.png\n",
            " animal7_accuracy_curve.png    'fine tuning1_accuracy_curve.png'\n",
            " animal7_loss_curve.png        'fine tuning1_loss_curve.png'\n",
            " animal8_accuracy_curve.png    'fine tuning2_accuracy_curve.png'\n",
            " animal8_loss_curve.png        'fine tuning2_loss_curve.png'\n",
            " animal9_accuracy_curve.png     train\n",
            " animal9_loss_curve.png        'TRANSFER LEARNING1_accuracy_curve.png'\n",
            " cnn0.1_accuracy_curve.png     'TRANSFER LEARNING1_loss_curve.png'\n",
            " cnn0.1_loss_curve.png\t       'TRANSFER LEARNING2_accuracy_curve.png'\n",
            " cnn0.2_accuracy_curve.png     'TRANSFER LEARNING2_loss_curve.png'\n",
            " cnn0.2_loss_curve.png\t        validation\n",
            " cnn1_accuracy_curve.png\n"
          ],
          "name": "stdout"
        }
      ]
    },
    {
      "cell_type": "code",
      "metadata": {
        "id": "LPm4ropxjItg"
      },
      "source": [
        "\n",
        "# Applying Transforms to the Data\n",
        "image_transforms = { \n",
        "    'train': transforms.Compose([\n",
        "        transforms.Resize(size=(32,32)),\n",
        "        transforms.RandomRotation(degrees=15),\n",
        "        transforms.RandomHorizontalFlip(),\n",
        "        transforms.ToTensor(),\n",
        "    ]),\n",
        "    'valid': transforms.Compose([\n",
        "        transforms.Resize(size=(32,32)),\n",
        "        transforms.ToTensor(),\n",
        "    ]),\n",
        "    'test': transforms.Compose([\n",
        "        transforms.Resize(size=(32,32)),\n",
        "        transforms.ToTensor(),\n",
        "    ])\n",
        "}"
      ],
      "execution_count": 6,
      "outputs": []
    },
    {
      "cell_type": "code",
      "metadata": {
        "colab": {
          "base_uri": "https://localhost:8080/"
        },
        "id": "tDyoLt2MjItg",
        "outputId": "2a2900b5-86a6-419c-fd16-e10234bd3161"
      },
      "source": [
        "# Load the Data\n",
        "\n",
        "# Set train and valid directory paths\n",
        "\n",
        "dataset = '/content/drive/My Drive/machine vision/animal_dataset3'\n",
        "\n",
        "train_directory = os.path.join(dataset, 'train')\n",
        "valid_directory = os.path.join(dataset, 'validation')\n",
        "test_directory = os.path.join(dataset, 'validation')\n",
        "\n",
        "# Batch size\n",
        "batchSize = 32\n",
        "\n",
        "# Number of classes\n",
        "# num_classes = len(os.listdir(valid_directory))-1  \n",
        "num_classes = len(os.listdir(train_directory))\n",
        "print(num_classes)\n",
        "\n",
        "# Load Data from folders\n",
        "data = {\n",
        "    'train': datasets.ImageFolder(root=train_directory, transform=image_transforms['train']),\n",
        "    'valid': datasets.ImageFolder(root=valid_directory, transform=image_transforms['valid']),\n",
        "    'test': datasets.ImageFolder(root=test_directory, transform=image_transforms['test'])\n",
        "}\n",
        "\n",
        "# Get a mapping of the indices to the class names, in order to see the output classes of the test images.\n",
        "idx_to_class = {v: k for k, v in data['train'].class_to_idx.items()}\n",
        "print(idx_to_class)"
      ],
      "execution_count": 7,
      "outputs": [
        {
          "output_type": "stream",
          "text": [
            "5\n",
            "{0: 'camel', 1: 'cow', 2: 'goat', 3: 'horse', 4: 'sheep'}\n"
          ],
          "name": "stdout"
        }
      ]
    },
    {
      "cell_type": "code",
      "metadata": {
        "id": "CCbdBOBMjIth",
        "colab": {
          "base_uri": "https://localhost:8080/"
        },
        "outputId": "9143f2b8-3a20-4efd-d049-0f067a01c311"
      },
      "source": [
        "data['test']"
      ],
      "execution_count": 36,
      "outputs": [
        {
          "output_type": "execute_result",
          "data": {
            "text/plain": [
              "Dataset ImageFolder\n",
              "    Number of datapoints: 222\n",
              "    Root location: /content/drive/My Drive/machine vision/animal_dataset3/validation\n",
              "    StandardTransform\n",
              "Transform: Compose(\n",
              "               Resize(size=(32, 32), interpolation=PIL.Image.BILINEAR)\n",
              "               ToTensor()\n",
              "           )"
            ]
          },
          "metadata": {
            "tags": []
          },
          "execution_count": 36
        }
      ]
    },
    {
      "cell_type": "code",
      "metadata": {
        "id": "WpB4zbkTjIth"
      },
      "source": [
        "# Size of Data, to be used for calculating Average Loss and Accuracy\n",
        "train_data_size = len(data['train'])\n",
        "valid_data_size = len(data['valid'])\n",
        "test_data_size = len(data['test'])\n",
        "\n",
        "# Create iterators for the Data loaded using DataLoader module\n",
        "train_data_loader = DataLoader(data['train'], batch_size=batchSize, shuffle=True)\n",
        "valid_data_loader = DataLoader(data['valid'], batch_size=batchSize, shuffle=True)\n",
        "test_data_loader = DataLoader(data['test'], batch_size=batchSize, shuffle=True)"
      ],
      "execution_count": 9,
      "outputs": []
    },
    {
      "cell_type": "code",
      "metadata": {
        "id": "nBS7f-DJjIth",
        "colab": {
          "base_uri": "https://localhost:8080/"
        },
        "outputId": "d370134a-8ae7-45b1-d6e1-f2d5e1d6eb73"
      },
      "source": [
        "train_data_size, valid_data_size, test_data_size"
      ],
      "execution_count": 10,
      "outputs": [
        {
          "output_type": "execute_result",
          "data": {
            "text/plain": [
              "(500, 222, 222)"
            ]
          },
          "metadata": {
            "tags": []
          },
          "execution_count": 10
        }
      ]
    },
    {
      "cell_type": "code",
      "metadata": {
        "id": "cwlr4cCslXX7"
      },
      "source": [
        "input_size = (3,32,32)"
      ],
      "execution_count": 11,
      "outputs": []
    },
    {
      "cell_type": "code",
      "metadata": {
        "id": "7_S4WB-QjIti"
      },
      "source": [
        "\n",
        "# define our convolutional neural networks\n",
        "class Net(nn.Module):\n",
        "    def __init__(self, input_size, num_classes):\n",
        "        super(Net, self).__init__()\n",
        "\n",
        "        self.conv1 = nn.Conv2d(3, 32, 5)\n",
        "        torch.nn.init.xavier_uniform_(self.conv1.weight)\n",
        "        self.conv2 = nn.Conv2d(32, 64, 5)\n",
        "        torch.nn.init.xavier_uniform_(self.conv2.weight)\n",
        "        \n",
        "        \n",
        "\n",
        "        self.pool = nn.MaxPool2d(2,2) # kernel size 2x2, stride = 2\n",
        "\n",
        "        n_size = self._get_conv_output(input_size)\n",
        "\n",
        "        self.fc1 = nn.Linear(n_size, 192)\n",
        "        torch.nn.init.xavier_uniform_(self.fc1.weight)\n",
        "        self.fc2 = nn.Linear(192, 120)\n",
        "        torch.nn.init.xavier_uniform_(self.fc2.weight)\n",
        "        self.dropout = nn.Dropout(0.1)\n",
        "      \n",
        "        self.fc3 = nn.Linear(120, 60)\n",
        "        torch.nn.init.xavier_uniform_(self.fc3.weight)\n",
        "        self.fc4 = nn.Linear(60, num_classes)\n",
        "        torch.nn.init.xavier_uniform_(self.fc4.weight)\n",
        "\n",
        "        \n",
        "\n",
        "    def _get_conv_output(self, shape):\n",
        "      \n",
        "        batch_size = 1\n",
        "        input = torch.autograd.Variable(torch.rand(batch_size, *shape))\n",
        "        output_feat = self._forward_features(input)\n",
        "        n_size = output_feat.data.view(batch_size, -1).size(1)\n",
        "        return n_size\n",
        "\n",
        "    def _forward_features(self, x):\n",
        "        x = self.pool(F.relu(self.conv1(x)))\n",
        "        x = self.pool(F.relu(self.conv2(x)))\n",
        "\n",
        "        return x\n",
        "      \n",
        "    def forward(self, x):\n",
        "        x = self._forward_features(x)\n",
        "        x = x.view(x.size(0), -1) # flattening\n",
        "        x = F.relu(self.fc1(x))\n",
        "       # x = self.dropout(x)\n",
        "        x = F.relu(self.fc2(x))\n",
        "        x = self.dropout(x)\n",
        "        x =F.relu(self.fc3(x))\n",
        "       # x = self.dropout(x)\n",
        "        x = self.fc4(x)\n",
        "        return x\n",
        "\n",
        "# second architecture to compare results\n",
        "\n",
        "#class Net(nn.Module):\n",
        "    #def __init__(self, input_size, num_classes):\n",
        "        #uper(Net, self).__init__()\n",
        "\n",
        "        #self.conv1 = nn.Conv2d(3, 32, 3)\n",
        "        #torch.nn.init.xavier_uniform_(self.conv1.weight)\n",
        "        #self.conv2 = nn.Conv2d(32, 64, 3)\n",
        "        #torch.nn.init.xavier_uniform_(self.conv2.weight)\n",
        "        #self.conv3 = nn.Conv2d(64, 128, 3)\n",
        "        #torch.nn.init.xavier_uniform_(self.conv3.weight)\n",
        "        \n",
        "\n",
        "        #self.pool = nn.MaxPool2d(2,2) # kernel size 2x2, stride = 2\n",
        "\n",
        "        #n_size = self._get_conv_output(input_size)\n",
        "\n",
        "        #self.fc1 = nn.Linear(n_size, 512)\n",
        "        #self.fc2 = nn.Linear(512, num_classes)\n",
        "\n",
        "        #self.dropout = nn.Dropout(0.5)\n",
        "\n",
        "    #def _get_conv_output(self, shape):\n",
        "     #   batch_size = 1\n",
        "      #  input = torch.autograd.Variable(torch.rand(batch_size, *shape))\n",
        "       # output_feat = self._forward_features(input)\n",
        "        #n_size = output_feat.data.view(batch_size, -1).size(1)\n",
        "        #return n_size\n",
        "\n",
        "    #def _forward_features(self, x):\n",
        "     #   x = self.pool(F.relu(self.conv1(x)))\n",
        "      #  x = self.pool(F.relu(self.conv2(x)))\n",
        "       # x = self.pool(F.relu(self.conv3(x)))\n",
        "        #return x\n",
        "      \n",
        "    #def forward(self, x):\n",
        "     #   x = self._forward_features(x)\n",
        "      #  x = x.view(x.size(0), -1) # flattening\n",
        "       # x = F.relu(self.fc1(x))\n",
        "        #x = self.dropout(x)\n",
        "        #x = self.fc2(x)\n",
        "        #return x"
      ],
      "execution_count": 12,
      "outputs": []
    },
    {
      "cell_type": "code",
      "metadata": {
        "id": "HGpMYwzkjIti"
      },
      "source": [
        "model = Net(input_size, num_classes)\n",
        "model = model.to('cuda:0')"
      ],
      "execution_count": 13,
      "outputs": []
    },
    {
      "cell_type": "code",
      "metadata": {
        "id": "TQjBPRAujIti",
        "colab": {
          "base_uri": "https://localhost:8080/"
        },
        "outputId": "b3b74868-1840-4d12-81b9-6b8984763d5b"
      },
      "source": [
        "model"
      ],
      "execution_count": 14,
      "outputs": [
        {
          "output_type": "execute_result",
          "data": {
            "text/plain": [
              "Net(\n",
              "  (conv1): Conv2d(3, 32, kernel_size=(5, 5), stride=(1, 1))\n",
              "  (conv2): Conv2d(32, 64, kernel_size=(5, 5), stride=(1, 1))\n",
              "  (pool): MaxPool2d(kernel_size=2, stride=2, padding=0, dilation=1, ceil_mode=False)\n",
              "  (fc1): Linear(in_features=1600, out_features=192, bias=True)\n",
              "  (fc2): Linear(in_features=192, out_features=120, bias=True)\n",
              "  (dropout): Dropout(p=0.1, inplace=False)\n",
              "  (fc3): Linear(in_features=120, out_features=60, bias=True)\n",
              "  (fc4): Linear(in_features=60, out_features=5, bias=True)\n",
              ")"
            ]
          },
          "metadata": {
            "tags": []
          },
          "execution_count": 14
        }
      ]
    },
    {
      "cell_type": "code",
      "metadata": {
        "id": "ilZ09L8ZjIti"
      },
      "source": [
        "# Define Optimizer and Loss Function\n",
        "learning_rate = 0.00001\n",
        "loss_func = nn.CrossEntropyLoss()\n",
        "#optimizer = optim.SGD(model.parameters(), lr=learning_rate, momentum=0.9)\n",
        "optimizer = optim.Adam(model.parameters(), lr = learning_rate)"
      ],
      "execution_count": 15,
      "outputs": []
    },
    {
      "cell_type": "code",
      "metadata": {
        "id": "QiwcZ18EjIti"
      },
      "source": [
        "def train_and_validate(model, loss_criterion, optimizer, epochs=25):\n",
        "    '''\n",
        "    Function to train and validate\n",
        "    Parameters\n",
        "        :param model: Model to train and validate\n",
        "        :param loss_criterion: Loss Criterion to minimize\n",
        "        :param optimizer: Optimizer for computing gradients\n",
        "        :param epochs: Number of epochs (default=25)\n",
        "  \n",
        "    Returns\n",
        "        model: Trained Model with best validation accuracy\n",
        "        history: (dict object): Having training loss, accuracy and validation loss, accuracy\n",
        "    '''\n",
        "    \n",
        "    start = time.time()\n",
        "    history = []\n",
        "    best_acc = 0.0\n",
        "\n",
        "    for epoch in range(epochs):\n",
        "        epoch_start = time.time()\n",
        "        print(\"Epoch: {}/{}\".format(epoch+1, epochs))\n",
        "        \n",
        "        # Set to training mode\n",
        "        model.train()\n",
        "        \n",
        "        # Loss and Accuracy within the epoch\n",
        "        train_loss = 0.0\n",
        "        train_acc = 0.0\n",
        "        \n",
        "        valid_loss = 0.0\n",
        "        valid_acc = 0.0\n",
        "        \n",
        "        for i, (inputs, labels) in enumerate(train_data_loader):\n",
        "\n",
        "            inputs = inputs.to(device)\n",
        "            labels = labels.to(device)\n",
        "            \n",
        "            # Clean existing gradients\n",
        "            optimizer.zero_grad()\n",
        "            \n",
        "            # Forward pass - compute outputs on input data using the model\n",
        "            outputs = model(inputs)\n",
        "            \n",
        "            # Compute loss\n",
        "            loss = loss_criterion(outputs, labels)\n",
        "            \n",
        "            # Backpropagate the gradients\n",
        "            loss.backward()\n",
        "            \n",
        "            # Update the parameters\n",
        "            optimizer.step()\n",
        "            \n",
        "            # Compute the total loss for the batch and add it to train_loss\n",
        "            train_loss += loss.item() * inputs.size(0)\n",
        "            \n",
        "            # Compute the accuracy\n",
        "            ret, predictions = torch.max(outputs.data, 1)\n",
        "            correct_counts = predictions.eq(labels.data.view_as(predictions))\n",
        "            \n",
        "            # Convert correct_counts to float and then compute the mean\n",
        "            acc = torch.mean(correct_counts.type(torch.FloatTensor))\n",
        "            \n",
        "            # Compute total accuracy in the whole batch and add to train_acc\n",
        "            train_acc += acc.item() * inputs.size(0)\n",
        "            \n",
        "            #print(\"Batch number: {:03d}, Training: Loss: {:.4f}, Accuracy: {:.4f}\".format(i, loss.item(), acc.item()))\n",
        "\n",
        "            \n",
        "        # Validation - No gradient tracking needed\n",
        "        with torch.no_grad():\n",
        "\n",
        "            # Set to evaluation mode\n",
        "            model.eval()\n",
        "\n",
        "            # Validation loop\n",
        "            for j, (inputs, labels) in enumerate(valid_data_loader):\n",
        "                inputs = inputs.to(device)\n",
        "                labels = labels.to(device)\n",
        "\n",
        "                # Forward pass - compute outputs on input data using the model\n",
        "                outputs = model(inputs)\n",
        "\n",
        "                # Compute loss\n",
        "                loss = loss_criterion(outputs, labels)\n",
        "\n",
        "                # Compute the total loss for the batch and add it to valid_loss\n",
        "                valid_loss += loss.item() * inputs.size(0)\n",
        "\n",
        "                # Calculate validation accuracy\n",
        "                ret, predictions = torch.max(outputs.data, 1)\n",
        "                correct_counts = predictions.eq(labels.data.view_as(predictions))\n",
        "\n",
        "                # Convert correct_counts to float and then compute the mean\n",
        "                acc = torch.mean(correct_counts.type(torch.FloatTensor))\n",
        "\n",
        "                # Compute total accuracy in the whole batch and add to valid_acc\n",
        "                valid_acc += acc.item() * inputs.size(0)\n",
        "\n",
        "                #print(\"Validation Batch number: {:03d}, Validation: Loss: {:.4f}, Accuracy: {:.4f}\".format(j, loss.item(), acc.item()))\n",
        "            \n",
        "        # Find average training loss and training accuracy\n",
        "        avg_train_loss = train_loss/train_data_size \n",
        "        avg_train_acc = train_acc/train_data_size\n",
        "\n",
        "        # Find average training loss and training accuracy\n",
        "        \n",
        "        avg_valid_loss = valid_loss/valid_data_size \n",
        "        avg_valid_acc = valid_acc/valid_data_size\n",
        "\n",
        "        history.append([avg_train_loss, avg_valid_loss, avg_train_acc, avg_valid_acc])\n",
        "                \n",
        "        epoch_end = time.time()\n",
        "    \n",
        "        print(\"Epoch : {:03d}, Training: Loss: {:.4f}, Accuracy: {:.4f}%, \\n\\t\\tValidation : Loss : {:.4f}, Accuracy: {:.4f}%, Time: {:.4f}s\".format(epoch, avg_train_loss, avg_train_acc*100, avg_valid_loss, avg_valid_acc*100, epoch_end-epoch_start))\n",
        "        \n",
        "        # Save if the model has best accuracy till now\n",
        "        torch.save(model, dataset+'_model_'+str(epoch)+'.pt')\n",
        "            \n",
        "    return model, history\n",
        "    "
      ],
      "execution_count": 16,
      "outputs": []
    },
    {
      "cell_type": "code",
      "metadata": {
        "id": "aFMWCMAwjIti",
        "colab": {
          "base_uri": "https://localhost:8080/"
        },
        "outputId": "47394dc0-43ca-48be-f615-03413a47b775"
      },
      "source": [
        "device = torch.device(\"cuda:0\" if torch.cuda.is_available() else \"cpu\")\n",
        "\n",
        "# Print the model to be trained\n",
        "#summary(resnet50, input_size=(3, 224, 224), batch_size=bs, device='cuda')\n",
        "\n",
        "# Train the model for 25 epochs\n",
        "num_epochs = 50\n",
        "trained_model, history = train_and_validate(model, loss_func, optimizer, num_epochs)\n",
        "\n",
        "torch.save(history, dataset+'_history.pt')"
      ],
      "execution_count": 17,
      "outputs": [
        {
          "output_type": "stream",
          "text": [
            "Epoch: 1/50\n",
            "Epoch : 000, Training: Loss: 1.6232, Accuracy: 19.6000%, \n",
            "\t\tValidation : Loss : 1.5853, Accuracy: 31.9820%, Time: 199.5523s\n",
            "Epoch: 2/50\n",
            "Epoch : 001, Training: Loss: 1.6205, Accuracy: 19.6000%, \n",
            "\t\tValidation : Loss : 1.5867, Accuracy: 31.9820%, Time: 1.6428s\n",
            "Epoch: 3/50\n",
            "Epoch : 002, Training: Loss: 1.6187, Accuracy: 20.2000%, \n",
            "\t\tValidation : Loss : 1.5880, Accuracy: 31.9820%, Time: 1.7011s\n",
            "Epoch: 4/50\n",
            "Epoch : 003, Training: Loss: 1.6182, Accuracy: 20.2000%, \n",
            "\t\tValidation : Loss : 1.5887, Accuracy: 31.9820%, Time: 1.7279s\n",
            "Epoch: 5/50\n",
            "Epoch : 004, Training: Loss: 1.6124, Accuracy: 19.0000%, \n",
            "\t\tValidation : Loss : 1.5882, Accuracy: 31.9820%, Time: 1.6745s\n",
            "Epoch: 6/50\n",
            "Epoch : 005, Training: Loss: 1.6115, Accuracy: 21.0000%, \n",
            "\t\tValidation : Loss : 1.5891, Accuracy: 31.9820%, Time: 1.7213s\n",
            "Epoch: 7/50\n",
            "Epoch : 006, Training: Loss: 1.6124, Accuracy: 22.2000%, \n",
            "\t\tValidation : Loss : 1.5888, Accuracy: 31.9820%, Time: 1.7103s\n",
            "Epoch: 8/50\n",
            "Epoch : 007, Training: Loss: 1.6106, Accuracy: 22.2000%, \n",
            "\t\tValidation : Loss : 1.5889, Accuracy: 32.4324%, Time: 1.7758s\n",
            "Epoch: 9/50\n",
            "Epoch : 008, Training: Loss: 1.6061, Accuracy: 20.4000%, \n",
            "\t\tValidation : Loss : 1.5880, Accuracy: 32.4324%, Time: 1.7771s\n",
            "Epoch: 10/50\n",
            "Epoch : 009, Training: Loss: 1.6017, Accuracy: 23.4000%, \n",
            "\t\tValidation : Loss : 1.5871, Accuracy: 32.4324%, Time: 1.6855s\n",
            "Epoch: 11/50\n",
            "Epoch : 010, Training: Loss: 1.6021, Accuracy: 21.6000%, \n",
            "\t\tValidation : Loss : 1.5858, Accuracy: 32.4324%, Time: 1.6968s\n",
            "Epoch: 12/50\n",
            "Epoch : 011, Training: Loss: 1.6003, Accuracy: 23.8000%, \n",
            "\t\tValidation : Loss : 1.5852, Accuracy: 31.9820%, Time: 1.6724s\n",
            "Epoch: 13/50\n",
            "Epoch : 012, Training: Loss: 1.5975, Accuracy: 23.4000%, \n",
            "\t\tValidation : Loss : 1.5843, Accuracy: 31.9820%, Time: 1.7347s\n",
            "Epoch: 14/50\n",
            "Epoch : 013, Training: Loss: 1.5968, Accuracy: 22.4000%, \n",
            "\t\tValidation : Loss : 1.5839, Accuracy: 29.7297%, Time: 1.6736s\n",
            "Epoch: 15/50\n",
            "Epoch : 014, Training: Loss: 1.5917, Accuracy: 26.4000%, \n",
            "\t\tValidation : Loss : 1.5823, Accuracy: 29.2793%, Time: 1.6498s\n",
            "Epoch: 16/50\n",
            "Epoch : 015, Training: Loss: 1.5907, Accuracy: 27.4000%, \n",
            "\t\tValidation : Loss : 1.5779, Accuracy: 31.0811%, Time: 1.6585s\n",
            "Epoch: 17/50\n",
            "Epoch : 016, Training: Loss: 1.5903, Accuracy: 26.8000%, \n",
            "\t\tValidation : Loss : 1.5752, Accuracy: 31.5315%, Time: 1.6862s\n",
            "Epoch: 18/50\n",
            "Epoch : 017, Training: Loss: 1.5848, Accuracy: 28.8000%, \n",
            "\t\tValidation : Loss : 1.5741, Accuracy: 33.3333%, Time: 1.6426s\n",
            "Epoch: 19/50\n",
            "Epoch : 018, Training: Loss: 1.5845, Accuracy: 30.2000%, \n",
            "\t\tValidation : Loss : 1.5716, Accuracy: 32.8829%, Time: 1.8214s\n",
            "Epoch: 20/50\n",
            "Epoch : 019, Training: Loss: 1.5806, Accuracy: 28.6000%, \n",
            "\t\tValidation : Loss : 1.5697, Accuracy: 33.3333%, Time: 1.6412s\n",
            "Epoch: 21/50\n",
            "Epoch : 020, Training: Loss: 1.5768, Accuracy: 30.4000%, \n",
            "\t\tValidation : Loss : 1.5676, Accuracy: 34.2342%, Time: 1.6501s\n",
            "Epoch: 22/50\n",
            "Epoch : 021, Training: Loss: 1.5757, Accuracy: 30.2000%, \n",
            "\t\tValidation : Loss : 1.5660, Accuracy: 36.0360%, Time: 1.6644s\n",
            "Epoch: 23/50\n",
            "Epoch : 022, Training: Loss: 1.5728, Accuracy: 30.2000%, \n",
            "\t\tValidation : Loss : 1.5640, Accuracy: 35.5856%, Time: 1.7500s\n",
            "Epoch: 24/50\n",
            "Epoch : 023, Training: Loss: 1.5733, Accuracy: 29.8000%, \n",
            "\t\tValidation : Loss : 1.5630, Accuracy: 34.6847%, Time: 1.6720s\n",
            "Epoch: 25/50\n",
            "Epoch : 024, Training: Loss: 1.5650, Accuracy: 32.8000%, \n",
            "\t\tValidation : Loss : 1.5597, Accuracy: 42.3423%, Time: 1.7766s\n",
            "Epoch: 26/50\n",
            "Epoch : 025, Training: Loss: 1.5639, Accuracy: 34.8000%, \n",
            "\t\tValidation : Loss : 1.5557, Accuracy: 40.9910%, Time: 1.7312s\n",
            "Epoch: 27/50\n",
            "Epoch : 026, Training: Loss: 1.5625, Accuracy: 32.0000%, \n",
            "\t\tValidation : Loss : 1.5507, Accuracy: 44.5946%, Time: 1.7823s\n",
            "Epoch: 28/50\n",
            "Epoch : 027, Training: Loss: 1.5572, Accuracy: 33.0000%, \n",
            "\t\tValidation : Loss : 1.5483, Accuracy: 41.4414%, Time: 1.6570s\n",
            "Epoch: 29/50\n",
            "Epoch : 028, Training: Loss: 1.5514, Accuracy: 35.2000%, \n",
            "\t\tValidation : Loss : 1.5443, Accuracy: 40.9910%, Time: 1.7780s\n",
            "Epoch: 30/50\n",
            "Epoch : 029, Training: Loss: 1.5489, Accuracy: 35.0000%, \n",
            "\t\tValidation : Loss : 1.5439, Accuracy: 38.2883%, Time: 1.7605s\n",
            "Epoch: 31/50\n",
            "Epoch : 030, Training: Loss: 1.5484, Accuracy: 35.4000%, \n",
            "\t\tValidation : Loss : 1.5370, Accuracy: 47.7477%, Time: 1.6931s\n",
            "Epoch: 32/50\n",
            "Epoch : 031, Training: Loss: 1.5474, Accuracy: 32.8000%, \n",
            "\t\tValidation : Loss : 1.5385, Accuracy: 40.0901%, Time: 1.7090s\n",
            "Epoch: 33/50\n",
            "Epoch : 032, Training: Loss: 1.5399, Accuracy: 36.4000%, \n",
            "\t\tValidation : Loss : 1.5349, Accuracy: 39.6396%, Time: 1.7278s\n",
            "Epoch: 34/50\n",
            "Epoch : 033, Training: Loss: 1.5294, Accuracy: 37.2000%, \n",
            "\t\tValidation : Loss : 1.5288, Accuracy: 42.7928%, Time: 1.6730s\n",
            "Epoch: 35/50\n",
            "Epoch : 034, Training: Loss: 1.5271, Accuracy: 36.0000%, \n",
            "\t\tValidation : Loss : 1.5239, Accuracy: 43.6937%, Time: 1.7499s\n",
            "Epoch: 36/50\n",
            "Epoch : 035, Training: Loss: 1.5274, Accuracy: 36.8000%, \n",
            "\t\tValidation : Loss : 1.5210, Accuracy: 43.2432%, Time: 1.6697s\n",
            "Epoch: 37/50\n",
            "Epoch : 036, Training: Loss: 1.5267, Accuracy: 38.8000%, \n",
            "\t\tValidation : Loss : 1.5167, Accuracy: 45.9459%, Time: 1.6672s\n",
            "Epoch: 38/50\n",
            "Epoch : 037, Training: Loss: 1.5178, Accuracy: 35.8000%, \n",
            "\t\tValidation : Loss : 1.5144, Accuracy: 40.9910%, Time: 1.6337s\n",
            "Epoch: 39/50\n",
            "Epoch : 038, Training: Loss: 1.5122, Accuracy: 37.4000%, \n",
            "\t\tValidation : Loss : 1.5116, Accuracy: 41.8919%, Time: 1.6639s\n",
            "Epoch: 40/50\n",
            "Epoch : 039, Training: Loss: 1.5097, Accuracy: 38.2000%, \n",
            "\t\tValidation : Loss : 1.5090, Accuracy: 41.4414%, Time: 1.7028s\n",
            "Epoch: 41/50\n",
            "Epoch : 040, Training: Loss: 1.5090, Accuracy: 39.8000%, \n",
            "\t\tValidation : Loss : 1.4977, Accuracy: 47.2973%, Time: 1.6748s\n",
            "Epoch: 42/50\n",
            "Epoch : 041, Training: Loss: 1.5050, Accuracy: 38.0000%, \n",
            "\t\tValidation : Loss : 1.5000, Accuracy: 42.3423%, Time: 1.6584s\n",
            "Epoch: 43/50\n",
            "Epoch : 042, Training: Loss: 1.4991, Accuracy: 39.4000%, \n",
            "\t\tValidation : Loss : 1.4958, Accuracy: 43.2432%, Time: 1.6438s\n",
            "Epoch: 44/50\n",
            "Epoch : 043, Training: Loss: 1.4944, Accuracy: 36.6000%, \n",
            "\t\tValidation : Loss : 1.4872, Accuracy: 45.0450%, Time: 1.7055s\n",
            "Epoch: 45/50\n",
            "Epoch : 044, Training: Loss: 1.4862, Accuracy: 39.0000%, \n",
            "\t\tValidation : Loss : 1.4857, Accuracy: 43.6937%, Time: 1.7757s\n",
            "Epoch: 46/50\n",
            "Epoch : 045, Training: Loss: 1.4898, Accuracy: 38.2000%, \n",
            "\t\tValidation : Loss : 1.4809, Accuracy: 44.5946%, Time: 1.7293s\n",
            "Epoch: 47/50\n",
            "Epoch : 046, Training: Loss: 1.4839, Accuracy: 38.6000%, \n",
            "\t\tValidation : Loss : 1.4770, Accuracy: 44.1441%, Time: 1.6947s\n",
            "Epoch: 48/50\n",
            "Epoch : 047, Training: Loss: 1.4873, Accuracy: 39.4000%, \n",
            "\t\tValidation : Loss : 1.4731, Accuracy: 43.6937%, Time: 1.6762s\n",
            "Epoch: 49/50\n",
            "Epoch : 048, Training: Loss: 1.4765, Accuracy: 41.6000%, \n",
            "\t\tValidation : Loss : 1.4690, Accuracy: 46.3964%, Time: 1.7014s\n",
            "Epoch: 50/50\n",
            "Epoch : 049, Training: Loss: 1.4639, Accuracy: 42.2000%, \n",
            "\t\tValidation : Loss : 1.4680, Accuracy: 41.8919%, Time: 1.6970s\n"
          ],
          "name": "stdout"
        }
      ]
    },
    {
      "cell_type": "code",
      "metadata": {
        "id": "_O6wzhwxjIti",
        "colab": {
          "base_uri": "https://localhost:8080/",
          "height": 283
        },
        "outputId": "c962b887-4135-42e2-e12b-a5e027c71cb3"
      },
      "source": [
        "history = np.array(history)\n",
        "plt.plot(history[:,0:2])\n",
        "plt.legend(['Tr Loss', 'Val Loss'])\n",
        "plt.xlabel('Epoch Number')\n",
        "plt.ylabel('Loss')\n",
        "plt.ylim(0,2)\n",
        "plt.savefig(dataset+'/cnn0.2_loss_curve.png')\n",
        "plt.show()\n"
      ],
      "execution_count": 18,
      "outputs": [
        {
          "output_type": "display_data",
          "data": {
            "image/png": "[encoded data removed]",
            "text/plain": [
              "<Figure size 432x288 with 1 Axes>"
            ]
          },
          "metadata": {
            "tags": [],
            "needs_background": "light"
          }
        }
      ]
    },
    {
      "cell_type": "code",
      "metadata": {
        "id": "x1EVfcQqjItj",
        "colab": {
          "base_uri": "https://localhost:8080/",
          "height": 283
        },
        "outputId": "9dba61e5-3a04-4cf4-b245-27f5452de7eb"
      },
      "source": [
        "plt.plot(history[:,2:4])\n",
        "plt.legend(['Tr Accuracy', 'Val Accuracy'])\n",
        "plt.xlabel('Epoch Number')\n",
        "plt.ylabel('Accuracy')\n",
        "plt.ylim(0,1)\n",
        "plt.savefig(dataset+'/cnn0.2_accuracy_curve.png')\n",
        "plt.show()"
      ],
      "execution_count": 19,
      "outputs": [
        {
          "output_type": "display_data",
          "data": {
            "image/png": "[encoded data removed]",
            "text/plain": [
              "<Figure size 432x288 with 1 Axes>"
            ]
          },
          "metadata": {
            "tags": [],
            "needs_background": "light"
          }
        }
      ]
    },
    {
      "cell_type": "code",
      "metadata": {
        "id": "ev1IVwk7jItj"
      },
      "source": [
        " def computeTestSetAccuracy(model, loss_criterion):\n",
        "    '''\n",
        "    Function to compute the accuracy on the test set\n",
        "    Parameters\n",
        "        :param model: Model to test\n",
        "        :param loss_criterion: Loss Criterion to minimize\n",
        "    '''\n",
        "\n",
        "    device = torch.device(\"cuda:0\" if torch.cuda.is_available() else \"cpu\")\n",
        "\n",
        "    test_acc = 0.0\n",
        "    test_loss = 0.0\n",
        "\n",
        "    # Validation - No gradient tracking needed\n",
        "    with torch.no_grad():\n",
        "\n",
        "        # Set to evaluation mode\n",
        "        model.eval()\n",
        "\n",
        "        # Validation loop\n",
        "        for j, (inputs, labels) in enumerate(test_data_loader):\n",
        "            inputs = inputs.to(device)\n",
        "            labels = labels.to(device)\n",
        "\n",
        "            # Forward pass - compute outputs on input data using the model\n",
        "            outputs = model(inputs)\n",
        "\n",
        "            # Compute loss\n",
        "            loss = loss_criterion(outputs, labels)\n",
        "\n",
        "            # Compute the total loss for the batch and add it to valid_loss\n",
        "            test_loss += loss.item() * inputs.size(0)\n",
        "\n",
        "            # Calculate validation accuracy\n",
        "            ret, predictions = torch.max(outputs.data, 1)\n",
        "            correct_counts = predictions.eq(labels.data.view_as(predictions))\n",
        "\n",
        "            # Convert correct_counts to float and then compute the mean\n",
        "            acc = torch.mean(correct_counts.type(torch.FloatTensor))\n",
        "\n",
        "            # Compute total accuracy in the whole batch and add to valid_acc\n",
        "            test_acc += acc.item() * inputs.size(0)\n",
        "\n",
        "            print(\"Test Batch number: {:03d}, Test: Loss: {:.4f}, Accuracy: {:.4f}\".format(j, loss.item(), acc.item()))\n",
        "\n",
        "    # Find average test loss and test accuracy\n",
        "    avg_test_loss = test_loss/test_data_size \n",
        "    avg_test_acc = test_acc/test_data_size\n",
        "\n",
        "    print(\"Test accuracy : \" + str(avg_test_acc))\n"
      ],
      "execution_count": 20,
      "outputs": []
    },
    {
      "cell_type": "code",
      "metadata": {
        "id": "SnvfrioVjItj"
      },
      "source": [
        "def predict(model, test_image_name):\n",
        "    '''\n",
        "    Function to predict the class of a single test image\n",
        "    Parameters\n",
        "        :param model: Model to test\n",
        "        :param test_image_name: Test image\n",
        "\n",
        "    '''\n",
        "    \n",
        "    transform = image_transforms['test']\n",
        "\n",
        "    test_image = Image.open(test_image_name)\n",
        "    plt.imshow(test_image)\n",
        "    \n",
        "    test_image_tensor = transform(test_image)\n",
        "\n",
        "    if torch.cuda.is_available():\n",
        "        test_image_tensor = test_image_tensor.view(1, 3, 32, 32).cuda()\n",
        "    else:\n",
        "        test_image_tensor = test_image_tensor.view(1, 3, 32, 32)\n",
        "        \n",
        "    \n",
        "    with torch.no_grad():\n",
        "        model.eval()\n",
        "        # Model outputs log probabilities\n",
        "        out = model(test_image_tensor)\n",
        "        ps = torch.exp(out)\n",
        "        topk, topclass = ps.topk(3, dim=1)\n",
        "        for i in range(3):\n",
        "            print(\"Prediction\", i+1, \":\", idx_to_class[topclass.cpu().numpy()[0][i]], \", Score: \", topk.cpu().numpy()[0][i])\n",
        "\n",
        "\n"
      ],
      "execution_count": 21,
      "outputs": []
    },
    {
      "cell_type": "code",
      "metadata": {
        "id": "lbQ8BROrjItj",
        "colab": {
          "base_uri": "https://localhost:8080/",
          "height": 320
        },
        "outputId": "288a906b-88ba-4029-c632-94c71e92b65b"
      },
      "source": [
        "# Test a particular model on a test image\n",
        "\n",
        "dataset = '/content/drive/My Drive/machine vision/animal_dataset3/validation/'\n",
        "model = torch.load('/content/drive/My Drive/machine vision/animal_dataset3_model_49.pt')\n",
        "predict(model, dataset+'camel/download (6).jpg')           "
      ],
      "execution_count": 42,
      "outputs": [
        {
          "output_type": "stream",
          "text": [
            "Prediction 1 : horse , Score:  1.2956984\n",
            "Prediction 2 : camel , Score:  1.032584\n",
            "Prediction 3 : cow , Score:  0.9508242\n"
          ],
          "name": "stdout"
        },
        {
          "output_type": "display_data",
          "data": {
            "image/png": "[encoded data removed]",
            "text/plain": [
              "<Figure size 432x288 with 1 Axes>"
            ]
          },
          "metadata": {
            "tags": [],
            "needs_background": "light"
          }
        }
      ]
    },
    {
      "cell_type": "code",
      "metadata": {
        "id": "-jCGN-MhjItj",
        "colab": {
          "base_uri": "https://localhost:8080/"
        },
        "outputId": "debf8186-cb84-4846-a922-4cdd15ca7fa2"
      },
      "source": [
        "# Load Data from folders\n",
        "computeTestSetAccuracy(model, loss_func)"
      ],
      "execution_count": 43,
      "outputs": [
        {
          "output_type": "stream",
          "text": [
            "Test Batch number: 000, Test: Loss: 1.4293, Accuracy: 0.4688\n",
            "Test Batch number: 001, Test: Loss: 1.4611, Accuracy: 0.4375\n",
            "Test Batch number: 002, Test: Loss: 1.3891, Accuracy: 0.5312\n",
            "Test Batch number: 003, Test: Loss: 1.4622, Accuracy: 0.3125\n",
            "Test Batch number: 004, Test: Loss: 1.5439, Accuracy: 0.3438\n",
            "Test Batch number: 005, Test: Loss: 1.5369, Accuracy: 0.4688\n",
            "Test Batch number: 006, Test: Loss: 1.4525, Accuracy: 0.3667\n",
            "Test accuracy : 0.4189189199928765\n"
          ],
          "name": "stdout"
        }
      ]
    },
    {
      "cell_type": "code",
      "metadata": {
        "id": "mCYMTOQRjItj"
      },
      "source": [
        ""
      ],
      "execution_count": 24,
      "outputs": []
    }
  ]
}